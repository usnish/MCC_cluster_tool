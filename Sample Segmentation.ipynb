{
 "cells": [
  {
   "cell_type": "markdown",
   "metadata": {
    "toc": "true"
   },
   "source": [
    "# Table of Contents\n",
    " <p><div class=\"lev1 toc-item\"><a href=\"#Importing-data\" data-toc-modified-id=\"Importing-data-1\"><span class=\"toc-item-num\">1&nbsp;&nbsp;</span>Importing data</a></div><div class=\"lev1 toc-item\"><a href=\"#Helper-functions\" data-toc-modified-id=\"Helper-functions-2\"><span class=\"toc-item-num\">2&nbsp;&nbsp;</span>Helper functions</a></div><div class=\"lev1 toc-item\"><a href=\"#Comorbidities\" data-toc-modified-id=\"Comorbidities-3\"><span class=\"toc-item-num\">3&nbsp;&nbsp;</span>Comorbidities</a></div><div class=\"lev1 toc-item\"><a href=\"#Clusters-(diseases-+-demographics)\" data-toc-modified-id=\"Clusters-(diseases-+-demographics)-4\"><span class=\"toc-item-num\">4&nbsp;&nbsp;</span>Clusters (diseases + demographics)</a></div>"
   ]
  },
  {
   "cell_type": "markdown",
   "metadata": {},
   "source": [
    "Here's my attempt at straightening all this old code out"
   ]
  },
  {
   "cell_type": "code",
   "execution_count": 1,
   "metadata": {},
   "outputs": [],
   "source": [
    "import pandas as pd\n",
    "import itertools\n",
    "import numpy as np\n",
    "\n",
    "from ast import literal_eval\n",
    "\n",
    "from helper_functions import *\n",
    "#     functions contained:\n",
    "#     prop_error(n, p, alpha = 0.05)\n",
    "#     prop_error_pct(n, p, alpha = 0.05)\n",
    "#     epi_rows(df, col, year = None)\n",
    "#     age_bin(age, labels, bins)\n",
    "#     comorbidity_indicator(data, cc)\n",
    "#     cost_center_indicator(data, cc)\n",
    "#     prevalence(data, indicator)\n",
    "#     age_adjusted_frequency(data, indicator=None, comorbidities=None, weights = pd.Series([]), yr = None)"
   ]
  },
  {
   "cell_type": "markdown",
   "metadata": {},
   "source": [
    "# Importing data"
   ]
  },
  {
   "cell_type": "code",
   "execution_count": 2,
   "metadata": {},
   "outputs": [],
   "source": [
    "df_merged = pd.read_csv('data/YOUR DATA HERE')\n",
    "df_merged.classes = df_merged.classes.apply(lambda x: literal_eval(x))\n",
    "df_merged.agg_indices = df_merged.agg_indices.fillna('None').apply(lambda x: literal_eval(x))\n",
    "\n",
    "df_merged.sex.fillna('Not provided')\n",
    "pop_N = df_merged.shape[0] # grab total number of person-years\n",
    "\n",
    "# IMPORT DESCRIPTION AND CONDITION INDICES\n",
    "cond_dict = pd.read_excel('data/disease_dictionary.xls').short.to_dict()\n",
    "desc_dict = pd.read_excel('data/disease_dictionary.xls').long.to_dict()\n",
    "\n",
    "# We will be grouping by pairs of comorbid diseases.\n",
    "disease_dyads = [i for i in itertools.combinations(range(len(desc_dict)), 2)]"
   ]
  },
  {
   "cell_type": "code",
   "execution_count": 4,
   "metadata": {},
   "outputs": [],
   "source": [
    "# age filters\n",
    "df_merged['age_gt_65'] = df_merged.age > 65 \n",
    "\n",
    "# age bins\n",
    "bins = [0,18,35,50,65,150]\n",
    "labels = ['0-18','18-35','35-50','50-65','65+']\n",
    "df_merged['age_bin'] = pd.cut(df_merged.age, bins=bins, labels=labels)\n",
    "\n",
    "sexes = ['F','M']"
   ]
  },
  {
   "cell_type": "code",
   "execution_count": 5,
   "metadata": {},
   "outputs": [],
   "source": [
    "# convert comorbidity list to boolean columns\n",
    "## comorbidity_indicator()\n",
    "for i in range(len(desc_dict)):\n",
    "    df_merged[desc_dict[i]] = comorbidity_indicator(df_merged,[str(i)])"
   ]
  },
  {
   "cell_type": "markdown",
   "metadata": {},
   "source": [
    "# Helper functions"
   ]
  },
  {
   "cell_type": "code",
   "execution_count": 6,
   "metadata": {},
   "outputs": [],
   "source": [
    "def segment_stats(data):\n",
    "    row_dict = {}\n",
    "    row_dict['avg_cost'] = data.sum_costs.mean()\n",
    "    row_dict['std_cost'] = data.sum_costs.std()\n",
    "    row_dict['num_person_years'] = data.shape[0]\n",
    "    row_dict['avg_num_com'] = data.no_comorbidities.mean()\n",
    "    row_dict['std_num_com'] = data.no_comorbidities.std()\n",
    "    \n",
    "    return row_dict\n",
    "\n",
    "# for i in c_dyads:\n",
    "#     temp = df_merged[(df_merged[i[0]]) & (df_merged[i[1]])]\n",
    "#     c_dyad_df = c_dyad_df.append(pd.Series(cluster_stats(temp), name=i)"
   ]
  },
  {
   "cell_type": "code",
   "execution_count": 7,
   "metadata": {},
   "outputs": [],
   "source": [
    "## Observed / Expected!!\n",
    "def oe(data, a, b):\n",
    "    freq_a = data[data[desc_dict[a]]].shape[0] / pop_N\n",
    "    freq_b = data[data[desc_dict[b]]].shape[0] / pop_N\n",
    "    expected = freq_a * freq_b\n",
    "    observed = data[(data[desc_dict[a]]) & (data[desc_dict[b]])].shape[0] / pop_N\n",
    "    \n",
    "    return {'observed': observed, 'expected': expected}\n"
   ]
  },
  {
   "cell_type": "markdown",
   "metadata": {},
   "source": [
    "# Comorbidities"
   ]
  },
  {
   "cell_type": "code",
   "execution_count": 9,
   "metadata": {},
   "outputs": [],
   "source": [
    "# comorbid disease dyad stats\n",
    "d_dyad_df = pd.DataFrame()\n",
    "\n",
    "for i in disease_dyads:\n",
    "    temp = df_merged[(df_merged[desc_dict[i[0]]]) & (df_merged[desc_dict[i[1]]])]\n",
    "    d_dyad_df = d_dyad_df.append(pd.Series(segment_stats(temp), name=i))"
   ]
  },
  {
   "cell_type": "code",
   "execution_count": 11,
   "metadata": {},
   "outputs": [],
   "source": [
    "oe_df = pd.DataFrame()\n",
    "\n",
    "for i in d_dyad_df.index.tolist():\n",
    "    oe_df = oe_df.append(pd.Series(oe(df_merged, i[0], i[1]), name = i))\n",
    "    \n",
    "d_dyad_df = pd.concat([d_dyad_df, oe_df], axis = 1)"
   ]
  },
  {
   "cell_type": "code",
   "execution_count": null,
   "metadata": {},
   "outputs": [],
   "source": [
    "d_dyad_df['O/E'] = d_dyad_df.observed / d_dyad_df.expected\n",
    "d_dyad_df['frequency'] = d_dyad_df.num_person_years / df_merged.shape[0]\n",
    "d_dyad_df['names'] = d_dyad_df.index.map(lambda x: [desc_dict[i] for i in x])"
   ]
  },
  {
   "cell_type": "code",
   "execution_count": null,
   "metadata": {},
   "outputs": [],
   "source": [
    "d_dyad_df.to_csv('disease_dyads_df.csv')"
   ]
  },
  {
   "cell_type": "markdown",
   "metadata": {},
   "source": [
    "# Segments (diseases + demographics)"
   ]
  },
  {
   "cell_type": "code",
   "execution_count": null,
   "metadata": {},
   "outputs": [],
   "source": [
    "# diseases + male or female\n",
    "b = [sexes, disease_dyads]\n",
    "\n",
    "combos = list(itertools.product(*b))\n",
    "\n",
    "\n",
    "ds_dyad_df = pd.DataFrame()\n",
    "\n",
    "for i in combos:\n",
    "    temp = df_merged[(df_merged.sex == i[0]) & (df_merged[desc_dict[i[1][0]]]) & (df_merged[desc_dict[i[1][1]]])]\n",
    "    ds_dyad_df = ds_dyad_df.append(pd.Series(segment_stats(temp), name=i))\n",
    "\n",
    "# [over_65,sexes,diseases,cost_centers]\n",
    "\n",
    "ds_dyad_df.to_csv('ds_dyad_df.csv')"
   ]
  },
  {
   "cell_type": "code",
   "execution_count": null,
   "metadata": {},
   "outputs": [],
   "source": [
    "# diseases + male or female + age_bin\n",
    "b = [sexes, age_bins, disease_dyads]\n",
    "\n",
    "combos = list(itertools.product(*b))\n",
    "\n",
    "das_dyad_df = pd.DataFrame()\n",
    "\n",
    "for i in combos:\n",
    "    temp = df_merged[(df_merged.sex == i[0]) & \\\n",
    "                     (df_merged.age_bin == i[1]) & \\\n",
    "                     (df_merged[desc_dict[i[2][0]]]) & \\\n",
    "                     (df_merged[desc_dict[i[2][1]]])]\n",
    "    das_dyad_df = das_dyad_df.append(pd.Series(segment_stats(temp), name=i))\n",
    "\n",
    "# [over_65,sexes,diseases,cost_centers]\n",
    "\n",
    "das_dyad_df.to_csv('das_dyad_df.csv')"
   ]
  },
  {
   "cell_type": "code",
   "execution_count": null,
   "metadata": {},
   "outputs": [],
   "source": [
    "das_dyad_df = pd.read_csv(\"das_dyad_df.csv\", index_col=0 , converters={\"index\": lambda x: x.strip(\"[]\").split(\", \")})"
   ]
  },
  {
   "cell_type": "code",
   "execution_count": null,
   "metadata": {},
   "outputs": [],
   "source": [
    "das_dyad_df['segment_type'] = das_dyad_df.index\n",
    "das_dyad_df['segment_type'] = das_dyad_df['segment_type'].apply(literal_eval)"
   ]
  },
  {
   "cell_type": "code",
   "execution_count": null,
   "metadata": {},
   "outputs": [],
   "source": [
    "das_dyad_df['segment_name_long'] = das_dyad_df['segment_type'].apply(lambda x: [x[0], x[1], [desc_dict[i] for i in x[2]]])\n",
    "das_dyad_df['segment_name_short'] = das_dyad_df['segment_type'].apply(lambda x: [x[0], x[1], [cond_dict[i] for i in x[2]]])\n",
    "das_dyad_df['total_cost'] = das_dyad_df.avg_cost * das_dyad_df.num_person_years\n",
    "das_dyad_df['age_group'] = das_dyad_df['segment_type'].apply(lambda x: x[1])\n",
    "das_dyad_df['sex'] = das_dyad_df['segment_type'].apply(lambda x: x[0])\n",
    "das_dyad_df[['first_condition', 'second_condition']] = das_dyad_df['segment_name_long'].apply(lambda x: pd.Series(x[2]).transpose())"
   ]
  },
  {
   "cell_type": "code",
   "execution_count": null,
   "metadata": {},
   "outputs": [],
   "source": [
    "#Filter clusters/segments in a bunch of different ways\n",
    "das_dyad_df[das_dyad_df.num_person_years > 10].sort_values(by='avg_cost', ascending=False).to_csv('das_dyads_cost_gt10.csv')\n",
    "das_dyad_df[das_dyad_df.num_person_years > 100].sort_values(by='avg_cost', ascending=False).to_csv('das_dyads_cost_gt100.csv')\n",
    "das_dyad_df[das_dyad_df.num_person_years > 1000].sort_values(by='avg_cost', ascending=False).to_csv('das_dyads_cost_gt1000.csv')\n",
    "das_dyad_df.sort_values(by='num_person_years', ascending=False).to_csv('das_dyads_freq_all.csv')\n",
    "das_dyad_df.sort_values(by='total_cost', ascending=False).to_csv('das_dyads_totalcost_all.csv')"
   ]
  },
  {
   "cell_type": "code",
   "execution_count": null,
   "metadata": {},
   "outputs": [],
   "source": [
    "#Filter by specific demographics\n",
    "das_dyad_df[(das_dyad_df.sex == 'M') & (das_dyad_df.age_group == '35-50')].sort_values(by='total_cost', ascending=False).to_csv('das_dyads_totalcost_all_M_35-50.csv')\n",
    "das_dyad_df[(das_dyad_df.sex == 'F') & (das_dyad_df.age_group == '35-50')].sort_values(by='total_cost', ascending=False).to_csv('das_dyads_totalcost_all_F_35-50.csv')\n",
    "das_dyad_df[(das_dyad_df.sex == 'M') & (das_dyad_df.age_group == '35-50')].sort_values(by='avg_cost', ascending=False).to_csv('das_dyads_avgcost_all_F_35-50.csv')\n",
    "das_dyad_df[(das_dyad_df.sex == 'F') & (das_dyad_df.age_group == '35-50')].sort_values(by='avg_cost', ascending=False).to_csv('das_dyads_avgcost_all_F_35-50.csv')"
   ]
  },
  {
   "cell_type": "code",
   "execution_count": null,
   "metadata": {},
   "outputs": [],
   "source": [
    "das_dyad_df.to_csv(\"df_table1.csv\")"
   ]
  }
 ],
 "metadata": {
  "kernelspec": {
   "display_name": "Python 3",
   "language": "python",
   "name": "python3"
  },
  "language_info": {
   "codemirror_mode": {
    "name": "ipython",
    "version": 3
   },
   "file_extension": ".py",
   "mimetype": "text/x-python",
   "name": "python",
   "nbconvert_exporter": "python",
   "pygments_lexer": "ipython3",
   "version": "3.7.3"
  },
  "toc": {
   "colors": {
    "hover_highlight": "#DAA520",
    "running_highlight": "#FF0000",
    "selected_highlight": "#FFD700"
   },
   "moveMenuLeft": true,
   "navigate_menu": false,
   "number_sections": true,
   "sideBar": true,
   "threshold": 4,
   "toc_cell": true,
   "toc_section_display": "block",
   "toc_window_display": false,
   "widenNotebook": false
  }
 },
 "nbformat": 4,
 "nbformat_minor": 4
}
